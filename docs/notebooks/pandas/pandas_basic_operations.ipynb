{
  "nbformat": 4,
  "nbformat_minor": 0,
  "metadata": {
    "colab": {
      "name": "pandas_basic_operations.ipynb",
      "provenance": [],
      "collapsed_sections": []
    },
    "language_info": {
      "name": "python"
    },
    "kernelspec": {
      "name": "python3",
      "display_name": "Python 3"
    }
  },
  "cells": [
    {
      "metadata": {
        "id": "TVBWhtpCn36z"
      },
      "cell_type": "markdown",
      "source": [
        "# Examples in pandas for basic operations on dataframes"
      ]
    },
    {
      "metadata": {
        "id": "hysxu47GoHa8"
      },
      "cell_type": "markdown",
      "source": [
        "## Setup lists"
      ]
    },
    {
      "metadata": {
        "id": "9QguEKojm6lP",
        "colab": {
          "base_uri": "https://localhost:8080/"
        },
        "outputId": "bfa82a29-ef61-4519-f1fb-a7822fd8f9aa"
      },
      "cell_type": "code",
      "source": [
        "# Setup\n",
        "import pandas as pd\n",
        "import numpy as np\n",
        "from collections import OrderedDict\n",
        "\n",
        "# List Comprehensions\n",
        "classes = [None,'aa','bb','bb','aa','aa',None,'cc']  # include some missing strings (None values)\n",
        "weights = [10 * v for v in range(len(classes))]\n",
        "heights = [100 * v for v in range(len(classes))]\n",
        "\n",
        "print(\"Lists:\")\n",
        "print(classes)\n",
        "print(weights)\n",
        "print(heights)"
      ],
      "execution_count": 2,
      "outputs": [
        {
          "output_type": "stream",
          "name": "stdout",
          "text": [
            "Lists:\n",
            "[None, 'aa', 'bb', 'bb', 'aa', 'aa', None, 'cc']\n",
            "[0, 10, 20, 30, 40, 50, 60, 70]\n",
            "[0, 100, 200, 300, 400, 500, 600, 700]\n"
          ]
        }
      ]
    },
    {
      "metadata": {
        "id": "rY0DAflunI_n"
      },
      "cell_type": "markdown",
      "source": [
        "##Build a dataframe from the lists"
      ]
    },
    {
      "metadata": {
        "id": "vN-7habanGoO",
        "colab": {
          "base_uri": "https://localhost:8080/",
          "height": 287
        },
        "outputId": "13cf98c5-13c4-4673-9e41-e55f36691004"
      },
      "cell_type": "code",
      "source": [
        "di_all = {\n",
        "    'class': classes,\n",
        "    'weight': weights,\n",
        "    'height': heights\n",
        "}\n",
        "\n",
        "df = pd.DataFrame(OrderedDict(di_all))\n",
        "df"
      ],
      "execution_count": null,
      "outputs": [
        {
          "output_type": "execute_result",
          "data": {
            "text/html": [
              "<div>\n",
              "<style scoped>\n",
              "    .dataframe tbody tr th:only-of-type {\n",
              "        vertical-align: middle;\n",
              "    }\n",
              "\n",
              "    .dataframe tbody tr th {\n",
              "        vertical-align: top;\n",
              "    }\n",
              "\n",
              "    .dataframe thead th {\n",
              "        text-align: right;\n",
              "    }\n",
              "</style>\n",
              "<table border=\"1\" class=\"dataframe\">\n",
              "  <thead>\n",
              "    <tr style=\"text-align: right;\">\n",
              "      <th></th>\n",
              "      <th>class</th>\n",
              "      <th>weight</th>\n",
              "      <th>height</th>\n",
              "    </tr>\n",
              "  </thead>\n",
              "  <tbody>\n",
              "    <tr>\n",
              "      <th>0</th>\n",
              "      <td>None</td>\n",
              "      <td>0</td>\n",
              "      <td>0</td>\n",
              "    </tr>\n",
              "    <tr>\n",
              "      <th>1</th>\n",
              "      <td>aa</td>\n",
              "      <td>10</td>\n",
              "      <td>100</td>\n",
              "    </tr>\n",
              "    <tr>\n",
              "      <th>2</th>\n",
              "      <td>bb</td>\n",
              "      <td>20</td>\n",
              "      <td>200</td>\n",
              "    </tr>\n",
              "    <tr>\n",
              "      <th>3</th>\n",
              "      <td>bb</td>\n",
              "      <td>30</td>\n",
              "      <td>300</td>\n",
              "    </tr>\n",
              "    <tr>\n",
              "      <th>4</th>\n",
              "      <td>aa</td>\n",
              "      <td>40</td>\n",
              "      <td>400</td>\n",
              "    </tr>\n",
              "    <tr>\n",
              "      <th>5</th>\n",
              "      <td>aa</td>\n",
              "      <td>50</td>\n",
              "      <td>500</td>\n",
              "    </tr>\n",
              "    <tr>\n",
              "      <th>6</th>\n",
              "      <td>None</td>\n",
              "      <td>60</td>\n",
              "      <td>600</td>\n",
              "    </tr>\n",
              "    <tr>\n",
              "      <th>7</th>\n",
              "      <td>cc</td>\n",
              "      <td>70</td>\n",
              "      <td>700</td>\n",
              "    </tr>\n",
              "  </tbody>\n",
              "</table>\n",
              "</div>"
            ],
            "text/plain": [
              "  class  weight  height\n",
              "0  None       0       0\n",
              "1    aa      10     100\n",
              "2    bb      20     200\n",
              "3    bb      30     300\n",
              "4    aa      40     400\n",
              "5    aa      50     500\n",
              "6  None      60     600\n",
              "7    cc      70     700"
            ]
          },
          "metadata": {
            "tags": []
          },
          "execution_count": 2
        }
      ]
    },
    {
      "metadata": {
        "id": "CEuEg38U4ETf"
      },
      "cell_type": "markdown",
      "source": [
        "## Identify distinct values and add column to dataframe"
      ]
    },
    {
      "metadata": {
        "id": "YEa_2G_T4Hbq",
        "colab": {
          "base_uri": "https://localhost:8080/",
          "height": 230
        },
        "outputId": "39976f76-a9d4-4f8d-b924-a6f1b355a40b"
      },
      "cell_type": "code",
      "source": [
        "labels, uniques = pd.factorize(df['class'])\n",
        "print(\"labels:\", labels)\n",
        "print(\"uniques:\", uniques)\n",
        "print(\"---\")\n",
        "df['label'] = labels\n",
        "print(df)"
      ],
      "execution_count": null,
      "outputs": [
        {
          "output_type": "stream",
          "text": [
            "('labels:', array([-1,  0,  1,  1,  0,  0, -1,  2]))\n",
            "('uniques:', Index([u'aa', u'bb', u'cc'], dtype='object'))\n",
            "---\n",
            "  class  weight  height  label\n",
            "0  None       0       0     -1\n",
            "1    aa      10     100      0\n",
            "2    bb      20     200      1\n",
            "3    bb      30     300      1\n",
            "4    aa      40     400      0\n",
            "5    aa      50     500      0\n",
            "6  None      60     600     -1\n",
            "7    cc      70     700      2\n"
          ],
          "name": "stdout"
        }
      ]
    },
    {
      "metadata": {
        "id": "h40qgVy17ZSR"
      },
      "cell_type": "markdown",
      "source": [
        "Note that text categories are converted to unique numeric labels, None items are labeled as -1"
      ]
    },
    {
      "metadata": {
        "id": "zajDWppG5RPj"
      },
      "cell_type": "markdown",
      "source": [
        "## Filter out rows"
      ]
    },
    {
      "metadata": {
        "id": "6LTUSek-9O8p",
        "colab": {
          "base_uri": "https://localhost:8080/",
          "height": 257
        },
        "outputId": "661e6346-736e-4c03-b3cd-c1a9b1a430ab"
      },
      "cell_type": "code",
      "source": [
        "df = df[df['class'] != 'cc']\n",
        "df"
      ],
      "execution_count": null,
      "outputs": [
        {
          "output_type": "execute_result",
          "data": {
            "text/html": [
              "<div>\n",
              "<style scoped>\n",
              "    .dataframe tbody tr th:only-of-type {\n",
              "        vertical-align: middle;\n",
              "    }\n",
              "\n",
              "    .dataframe tbody tr th {\n",
              "        vertical-align: top;\n",
              "    }\n",
              "\n",
              "    .dataframe thead th {\n",
              "        text-align: right;\n",
              "    }\n",
              "</style>\n",
              "<table border=\"1\" class=\"dataframe\">\n",
              "  <thead>\n",
              "    <tr style=\"text-align: right;\">\n",
              "      <th></th>\n",
              "      <th>class</th>\n",
              "      <th>weight</th>\n",
              "      <th>height</th>\n",
              "      <th>label</th>\n",
              "    </tr>\n",
              "  </thead>\n",
              "  <tbody>\n",
              "    <tr>\n",
              "      <th>0</th>\n",
              "      <td>None</td>\n",
              "      <td>0</td>\n",
              "      <td>0</td>\n",
              "      <td>-1</td>\n",
              "    </tr>\n",
              "    <tr>\n",
              "      <th>1</th>\n",
              "      <td>aa</td>\n",
              "      <td>10</td>\n",
              "      <td>100</td>\n",
              "      <td>0</td>\n",
              "    </tr>\n",
              "    <tr>\n",
              "      <th>2</th>\n",
              "      <td>bb</td>\n",
              "      <td>20</td>\n",
              "      <td>200</td>\n",
              "      <td>1</td>\n",
              "    </tr>\n",
              "    <tr>\n",
              "      <th>3</th>\n",
              "      <td>bb</td>\n",
              "      <td>30</td>\n",
              "      <td>300</td>\n",
              "      <td>1</td>\n",
              "    </tr>\n",
              "    <tr>\n",
              "      <th>4</th>\n",
              "      <td>aa</td>\n",
              "      <td>40</td>\n",
              "      <td>400</td>\n",
              "      <td>0</td>\n",
              "    </tr>\n",
              "    <tr>\n",
              "      <th>5</th>\n",
              "      <td>aa</td>\n",
              "      <td>50</td>\n",
              "      <td>500</td>\n",
              "      <td>0</td>\n",
              "    </tr>\n",
              "    <tr>\n",
              "      <th>6</th>\n",
              "      <td>None</td>\n",
              "      <td>60</td>\n",
              "      <td>600</td>\n",
              "      <td>-1</td>\n",
              "    </tr>\n",
              "  </tbody>\n",
              "</table>\n",
              "</div>"
            ],
            "text/plain": [
              "  class  weight  height  label\n",
              "0  None       0       0     -1\n",
              "1    aa      10     100      0\n",
              "2    bb      20     200      1\n",
              "3    bb      30     300      1\n",
              "4    aa      40     400      0\n",
              "5    aa      50     500      0\n",
              "6  None      60     600     -1"
            ]
          },
          "metadata": {
            "tags": []
          },
          "execution_count": 4
        }
      ]
    },
    {
      "metadata": {
        "id": "ZD3Gj_XR5RYl",
        "colab": {
          "base_uri": "https://localhost:8080/",
          "height": 197
        },
        "outputId": "8f2d7e74-b4bf-4053-f63a-f20d1ba670df"
      },
      "cell_type": "code",
      "source": [
        "df = df[~df['class'].isnull()]  # need to use 'isnull' to filter out the special None values\n",
        "df"
      ],
      "execution_count": null,
      "outputs": [
        {
          "output_type": "execute_result",
          "data": {
            "text/html": [
              "<div>\n",
              "<style scoped>\n",
              "    .dataframe tbody tr th:only-of-type {\n",
              "        vertical-align: middle;\n",
              "    }\n",
              "\n",
              "    .dataframe tbody tr th {\n",
              "        vertical-align: top;\n",
              "    }\n",
              "\n",
              "    .dataframe thead th {\n",
              "        text-align: right;\n",
              "    }\n",
              "</style>\n",
              "<table border=\"1\" class=\"dataframe\">\n",
              "  <thead>\n",
              "    <tr style=\"text-align: right;\">\n",
              "      <th></th>\n",
              "      <th>class</th>\n",
              "      <th>weight</th>\n",
              "      <th>height</th>\n",
              "      <th>label</th>\n",
              "    </tr>\n",
              "  </thead>\n",
              "  <tbody>\n",
              "    <tr>\n",
              "      <th>1</th>\n",
              "      <td>aa</td>\n",
              "      <td>10</td>\n",
              "      <td>100</td>\n",
              "      <td>0</td>\n",
              "    </tr>\n",
              "    <tr>\n",
              "      <th>2</th>\n",
              "      <td>bb</td>\n",
              "      <td>20</td>\n",
              "      <td>200</td>\n",
              "      <td>1</td>\n",
              "    </tr>\n",
              "    <tr>\n",
              "      <th>3</th>\n",
              "      <td>bb</td>\n",
              "      <td>30</td>\n",
              "      <td>300</td>\n",
              "      <td>1</td>\n",
              "    </tr>\n",
              "    <tr>\n",
              "      <th>4</th>\n",
              "      <td>aa</td>\n",
              "      <td>40</td>\n",
              "      <td>400</td>\n",
              "      <td>0</td>\n",
              "    </tr>\n",
              "    <tr>\n",
              "      <th>5</th>\n",
              "      <td>aa</td>\n",
              "      <td>50</td>\n",
              "      <td>500</td>\n",
              "      <td>0</td>\n",
              "    </tr>\n",
              "  </tbody>\n",
              "</table>\n",
              "</div>"
            ],
            "text/plain": [
              "  class  weight  height  label\n",
              "1    aa      10     100      0\n",
              "2    bb      20     200      1\n",
              "3    bb      30     300      1\n",
              "4    aa      40     400      0\n",
              "5    aa      50     500      0"
            ]
          },
          "metadata": {
            "tags": []
          },
          "execution_count": 5
        }
      ]
    },
    {
      "metadata": {
        "id": "gBaUPgZh_gog"
      },
      "cell_type": "markdown",
      "source": [
        "## Delete a column"
      ]
    },
    {
      "metadata": {
        "id": "QZmAb8u3_jU0"
      },
      "cell_type": "code",
      "source": [
        "del df['class']"
      ],
      "execution_count": null,
      "outputs": []
    },
    {
      "metadata": {
        "id": "f1vTfWrm5jSD"
      },
      "cell_type": "markdown",
      "source": [
        "## Sort rows by specific columns"
      ]
    },
    {
      "metadata": {
        "id": "z3j8ei-s5pwe",
        "colab": {
          "base_uri": "https://localhost:8080/",
          "height": 197
        },
        "outputId": "5a6ed34d-6b5f-4428-bbe8-96d69f02aa2e"
      },
      "cell_type": "code",
      "source": [
        "df = df.sort_values(['label', 'height'], ascending=[True, False])  # first by label then by height \n",
        "df"
      ],
      "execution_count": null,
      "outputs": [
        {
          "output_type": "execute_result",
          "data": {
            "text/html": [
              "<div>\n",
              "<style scoped>\n",
              "    .dataframe tbody tr th:only-of-type {\n",
              "        vertical-align: middle;\n",
              "    }\n",
              "\n",
              "    .dataframe tbody tr th {\n",
              "        vertical-align: top;\n",
              "    }\n",
              "\n",
              "    .dataframe thead th {\n",
              "        text-align: right;\n",
              "    }\n",
              "</style>\n",
              "<table border=\"1\" class=\"dataframe\">\n",
              "  <thead>\n",
              "    <tr style=\"text-align: right;\">\n",
              "      <th></th>\n",
              "      <th>weight</th>\n",
              "      <th>height</th>\n",
              "      <th>label</th>\n",
              "    </tr>\n",
              "  </thead>\n",
              "  <tbody>\n",
              "    <tr>\n",
              "      <th>5</th>\n",
              "      <td>50</td>\n",
              "      <td>500</td>\n",
              "      <td>0</td>\n",
              "    </tr>\n",
              "    <tr>\n",
              "      <th>4</th>\n",
              "      <td>40</td>\n",
              "      <td>400</td>\n",
              "      <td>0</td>\n",
              "    </tr>\n",
              "    <tr>\n",
              "      <th>1</th>\n",
              "      <td>10</td>\n",
              "      <td>100</td>\n",
              "      <td>0</td>\n",
              "    </tr>\n",
              "    <tr>\n",
              "      <th>3</th>\n",
              "      <td>30</td>\n",
              "      <td>300</td>\n",
              "      <td>1</td>\n",
              "    </tr>\n",
              "    <tr>\n",
              "      <th>2</th>\n",
              "      <td>20</td>\n",
              "      <td>200</td>\n",
              "      <td>1</td>\n",
              "    </tr>\n",
              "  </tbody>\n",
              "</table>\n",
              "</div>"
            ],
            "text/plain": [
              "   weight  height  label\n",
              "5      50     500      0\n",
              "4      40     400      0\n",
              "1      10     100      0\n",
              "3      30     300      1\n",
              "2      20     200      1"
            ]
          },
          "metadata": {
            "tags": []
          },
          "execution_count": 7
        }
      ]
    },
    {
      "metadata": {
        "id": "CRVqUEi66KMf"
      },
      "cell_type": "markdown",
      "source": [
        "## Reorder columns"
      ]
    },
    {
      "metadata": {
        "id": "81YA-dcj6Kaa",
        "colab": {
          "base_uri": "https://localhost:8080/",
          "height": 197
        },
        "outputId": "97dd2cca-84b8-4cf2-8639-3f8eee61d181"
      },
      "cell_type": "code",
      "source": [
        "ORDERED_COLS= ['label', 'weight', 'height']\n",
        "df = df[ORDERED_COLS]\n",
        "df"
      ],
      "execution_count": null,
      "outputs": [
        {
          "output_type": "execute_result",
          "data": {
            "text/html": [
              "<div>\n",
              "<style scoped>\n",
              "    .dataframe tbody tr th:only-of-type {\n",
              "        vertical-align: middle;\n",
              "    }\n",
              "\n",
              "    .dataframe tbody tr th {\n",
              "        vertical-align: top;\n",
              "    }\n",
              "\n",
              "    .dataframe thead th {\n",
              "        text-align: right;\n",
              "    }\n",
              "</style>\n",
              "<table border=\"1\" class=\"dataframe\">\n",
              "  <thead>\n",
              "    <tr style=\"text-align: right;\">\n",
              "      <th></th>\n",
              "      <th>label</th>\n",
              "      <th>weight</th>\n",
              "      <th>height</th>\n",
              "    </tr>\n",
              "  </thead>\n",
              "  <tbody>\n",
              "    <tr>\n",
              "      <th>5</th>\n",
              "      <td>0</td>\n",
              "      <td>50</td>\n",
              "      <td>500</td>\n",
              "    </tr>\n",
              "    <tr>\n",
              "      <th>4</th>\n",
              "      <td>0</td>\n",
              "      <td>40</td>\n",
              "      <td>400</td>\n",
              "    </tr>\n",
              "    <tr>\n",
              "      <th>1</th>\n",
              "      <td>0</td>\n",
              "      <td>10</td>\n",
              "      <td>100</td>\n",
              "    </tr>\n",
              "    <tr>\n",
              "      <th>3</th>\n",
              "      <td>1</td>\n",
              "      <td>30</td>\n",
              "      <td>300</td>\n",
              "    </tr>\n",
              "    <tr>\n",
              "      <th>2</th>\n",
              "      <td>1</td>\n",
              "      <td>20</td>\n",
              "      <td>200</td>\n",
              "    </tr>\n",
              "  </tbody>\n",
              "</table>\n",
              "</div>"
            ],
            "text/plain": [
              "   label  weight  height\n",
              "5      0      50     500\n",
              "4      0      40     400\n",
              "1      0      10     100\n",
              "3      1      30     300\n",
              "2      1      20     200"
            ]
          },
          "metadata": {
            "tags": []
          },
          "execution_count": 8
        }
      ]
    },
    {
      "metadata": {
        "id": "7lTNe45M6zDq"
      },
      "cell_type": "markdown",
      "source": [
        "## Reset dataframe index values"
      ]
    },
    {
      "metadata": {
        "id": "ghPkE3in6zen",
        "colab": {
          "base_uri": "https://localhost:8080/",
          "height": 197
        },
        "outputId": "df98f0eb-3688-42a7-ef86-a15646c4fde6"
      },
      "cell_type": "code",
      "source": [
        "df = df.reset_index(drop=True)\n",
        "df"
      ],
      "execution_count": null,
      "outputs": [
        {
          "output_type": "execute_result",
          "data": {
            "text/html": [
              "<div>\n",
              "<style scoped>\n",
              "    .dataframe tbody tr th:only-of-type {\n",
              "        vertical-align: middle;\n",
              "    }\n",
              "\n",
              "    .dataframe tbody tr th {\n",
              "        vertical-align: top;\n",
              "    }\n",
              "\n",
              "    .dataframe thead th {\n",
              "        text-align: right;\n",
              "    }\n",
              "</style>\n",
              "<table border=\"1\" class=\"dataframe\">\n",
              "  <thead>\n",
              "    <tr style=\"text-align: right;\">\n",
              "      <th></th>\n",
              "      <th>label</th>\n",
              "      <th>weight</th>\n",
              "      <th>height</th>\n",
              "    </tr>\n",
              "  </thead>\n",
              "  <tbody>\n",
              "    <tr>\n",
              "      <th>0</th>\n",
              "      <td>0</td>\n",
              "      <td>50</td>\n",
              "      <td>500</td>\n",
              "    </tr>\n",
              "    <tr>\n",
              "      <th>1</th>\n",
              "      <td>0</td>\n",
              "      <td>40</td>\n",
              "      <td>400</td>\n",
              "    </tr>\n",
              "    <tr>\n",
              "      <th>2</th>\n",
              "      <td>0</td>\n",
              "      <td>10</td>\n",
              "      <td>100</td>\n",
              "    </tr>\n",
              "    <tr>\n",
              "      <th>3</th>\n",
              "      <td>1</td>\n",
              "      <td>30</td>\n",
              "      <td>300</td>\n",
              "    </tr>\n",
              "    <tr>\n",
              "      <th>4</th>\n",
              "      <td>1</td>\n",
              "      <td>20</td>\n",
              "      <td>200</td>\n",
              "    </tr>\n",
              "  </tbody>\n",
              "</table>\n",
              "</div>"
            ],
            "text/plain": [
              "   label  weight  height\n",
              "0      0      50     500\n",
              "1      0      40     400\n",
              "2      0      10     100\n",
              "3      1      30     300\n",
              "4      1      20     200"
            ]
          },
          "metadata": {
            "tags": []
          },
          "execution_count": 9
        }
      ]
    },
    {
      "metadata": {
        "id": "w6eIQIbSnM-5"
      },
      "cell_type": "markdown",
      "source": [
        "## Basic column info and stats"
      ]
    },
    {
      "metadata": {
        "id": "tC6QvnJNnMad",
        "colab": {
          "base_uri": "https://localhost:8080/",
          "height": 34
        },
        "outputId": "43f589ee-861a-4096-8453-6d3eda6d54d3"
      },
      "cell_type": "code",
      "source": [
        "df.shape"
      ],
      "execution_count": null,
      "outputs": [
        {
          "output_type": "execute_result",
          "data": {
            "text/plain": [
              "(5, 3)"
            ]
          },
          "metadata": {
            "tags": []
          },
          "execution_count": 10
        }
      ]
    },
    {
      "metadata": {
        "id": "RYu-tuuwnTwV",
        "colab": {
          "base_uri": "https://localhost:8080/",
          "height": 87
        },
        "outputId": "97bb7c9f-0dd7-4bea-c409-489066d49024"
      },
      "cell_type": "code",
      "source": [
        "df.dtypes"
      ],
      "execution_count": null,
      "outputs": [
        {
          "output_type": "execute_result",
          "data": {
            "text/plain": [
              "label     int64\n",
              "weight    int64\n",
              "height    int64\n",
              "dtype: object"
            ]
          },
          "metadata": {
            "tags": []
          },
          "execution_count": 11
        }
      ]
    },
    {
      "metadata": {
        "id": "B_yxNP3RnVj9",
        "colab": {
          "base_uri": "https://localhost:8080/",
          "height": 287
        },
        "outputId": "2a3c4e54-5995-45ae-ef90-876bca8b3ff9"
      },
      "cell_type": "code",
      "source": [
        "df.describe()"
      ],
      "execution_count": null,
      "outputs": [
        {
          "output_type": "execute_result",
          "data": {
            "text/html": [
              "<div>\n",
              "<style scoped>\n",
              "    .dataframe tbody tr th:only-of-type {\n",
              "        vertical-align: middle;\n",
              "    }\n",
              "\n",
              "    .dataframe tbody tr th {\n",
              "        vertical-align: top;\n",
              "    }\n",
              "\n",
              "    .dataframe thead th {\n",
              "        text-align: right;\n",
              "    }\n",
              "</style>\n",
              "<table border=\"1\" class=\"dataframe\">\n",
              "  <thead>\n",
              "    <tr style=\"text-align: right;\">\n",
              "      <th></th>\n",
              "      <th>label</th>\n",
              "      <th>weight</th>\n",
              "      <th>height</th>\n",
              "    </tr>\n",
              "  </thead>\n",
              "  <tbody>\n",
              "    <tr>\n",
              "      <th>count</th>\n",
              "      <td>5.000000</td>\n",
              "      <td>5.000000</td>\n",
              "      <td>5.000000</td>\n",
              "    </tr>\n",
              "    <tr>\n",
              "      <th>mean</th>\n",
              "      <td>0.400000</td>\n",
              "      <td>30.000000</td>\n",
              "      <td>300.000000</td>\n",
              "    </tr>\n",
              "    <tr>\n",
              "      <th>std</th>\n",
              "      <td>0.547723</td>\n",
              "      <td>15.811388</td>\n",
              "      <td>158.113883</td>\n",
              "    </tr>\n",
              "    <tr>\n",
              "      <th>min</th>\n",
              "      <td>0.000000</td>\n",
              "      <td>10.000000</td>\n",
              "      <td>100.000000</td>\n",
              "    </tr>\n",
              "    <tr>\n",
              "      <th>25%</th>\n",
              "      <td>0.000000</td>\n",
              "      <td>20.000000</td>\n",
              "      <td>200.000000</td>\n",
              "    </tr>\n",
              "    <tr>\n",
              "      <th>50%</th>\n",
              "      <td>0.000000</td>\n",
              "      <td>30.000000</td>\n",
              "      <td>300.000000</td>\n",
              "    </tr>\n",
              "    <tr>\n",
              "      <th>75%</th>\n",
              "      <td>1.000000</td>\n",
              "      <td>40.000000</td>\n",
              "      <td>400.000000</td>\n",
              "    </tr>\n",
              "    <tr>\n",
              "      <th>max</th>\n",
              "      <td>1.000000</td>\n",
              "      <td>50.000000</td>\n",
              "      <td>500.000000</td>\n",
              "    </tr>\n",
              "  </tbody>\n",
              "</table>\n",
              "</div>"
            ],
            "text/plain": [
              "          label     weight      height\n",
              "count  5.000000   5.000000    5.000000\n",
              "mean   0.400000  30.000000  300.000000\n",
              "std    0.547723  15.811388  158.113883\n",
              "min    0.000000  10.000000  100.000000\n",
              "25%    0.000000  20.000000  200.000000\n",
              "50%    0.000000  30.000000  300.000000\n",
              "75%    1.000000  40.000000  400.000000\n",
              "max    1.000000  50.000000  500.000000"
            ]
          },
          "metadata": {
            "tags": []
          },
          "execution_count": 12
        }
      ]
    },
    {
      "metadata": {
        "id": "LQIe45p3nXcp",
        "colab": {
          "base_uri": "https://localhost:8080/",
          "height": 87
        },
        "outputId": "4517635f-b6b2-4931-f02a-aab423b3de7a"
      },
      "cell_type": "code",
      "source": [
        "df.count()"
      ],
      "execution_count": null,
      "outputs": [
        {
          "output_type": "execute_result",
          "data": {
            "text/plain": [
              "label     5\n",
              "weight    5\n",
              "height    5\n",
              "dtype: int64"
            ]
          },
          "metadata": {
            "tags": []
          },
          "execution_count": 13
        }
      ]
    },
    {
      "metadata": {
        "id": "teVWrr_SnbAy",
        "colab": {
          "base_uri": "https://localhost:8080/",
          "height": 158
        },
        "outputId": "049c245e-3a21-4add-9444-e1253a3b62a6"
      },
      "cell_type": "code",
      "source": [
        "df.info()"
      ],
      "execution_count": null,
      "outputs": [
        {
          "output_type": "stream",
          "text": [
            "<class 'pandas.core.frame.DataFrame'>\n",
            "RangeIndex: 5 entries, 0 to 4\n",
            "Data columns (total 3 columns):\n",
            "label     5 non-null int64\n",
            "weight    5 non-null int64\n",
            "height    5 non-null int64\n",
            "dtypes: int64(3)\n",
            "memory usage: 192.0 bytes\n"
          ],
          "name": "stdout"
        }
      ]
    },
    {
      "metadata": {
        "id": "fnVndmgmonyv"
      },
      "cell_type": "markdown",
      "source": [
        "## Access elements in the dataframe"
      ]
    },
    {
      "metadata": {
        "id": "CnH_3t4xo1X2"
      },
      "cell_type": "markdown",
      "source": [
        "### Access value at index position:"
      ]
    },
    {
      "metadata": {
        "id": "Tr81xmdFox78",
        "colab": {
          "base_uri": "https://localhost:8080/",
          "height": 34
        },
        "outputId": "321e2e07-6ffb-4e11-bbc6-7f8906357ae0"
      },
      "cell_type": "code",
      "source": [
        "df.iloc[4,1]  # [4th row, 1st col]"
      ],
      "execution_count": null,
      "outputs": [
        {
          "output_type": "execute_result",
          "data": {
            "text/plain": [
              "20"
            ]
          },
          "metadata": {
            "tags": []
          },
          "execution_count": 15
        }
      ]
    },
    {
      "metadata": {
        "id": "777qA0HvpNwK",
        "colab": {
          "base_uri": "https://localhost:8080/",
          "height": 197
        },
        "outputId": "939c1b12-784e-48a0-e347-d0188253e215"
      },
      "cell_type": "code",
      "source": [
        "df.iloc[:,:2]  # [all rows, the first two columns]"
      ],
      "execution_count": null,
      "outputs": [
        {
          "output_type": "execute_result",
          "data": {
            "text/html": [
              "<div>\n",
              "<style scoped>\n",
              "    .dataframe tbody tr th:only-of-type {\n",
              "        vertical-align: middle;\n",
              "    }\n",
              "\n",
              "    .dataframe tbody tr th {\n",
              "        vertical-align: top;\n",
              "    }\n",
              "\n",
              "    .dataframe thead th {\n",
              "        text-align: right;\n",
              "    }\n",
              "</style>\n",
              "<table border=\"1\" class=\"dataframe\">\n",
              "  <thead>\n",
              "    <tr style=\"text-align: right;\">\n",
              "      <th></th>\n",
              "      <th>label</th>\n",
              "      <th>weight</th>\n",
              "    </tr>\n",
              "  </thead>\n",
              "  <tbody>\n",
              "    <tr>\n",
              "      <th>0</th>\n",
              "      <td>0</td>\n",
              "      <td>50</td>\n",
              "    </tr>\n",
              "    <tr>\n",
              "      <th>1</th>\n",
              "      <td>0</td>\n",
              "      <td>40</td>\n",
              "    </tr>\n",
              "    <tr>\n",
              "      <th>2</th>\n",
              "      <td>0</td>\n",
              "      <td>10</td>\n",
              "    </tr>\n",
              "    <tr>\n",
              "      <th>3</th>\n",
              "      <td>1</td>\n",
              "      <td>30</td>\n",
              "    </tr>\n",
              "    <tr>\n",
              "      <th>4</th>\n",
              "      <td>1</td>\n",
              "      <td>20</td>\n",
              "    </tr>\n",
              "  </tbody>\n",
              "</table>\n",
              "</div>"
            ],
            "text/plain": [
              "   label  weight\n",
              "0      0      50\n",
              "1      0      40\n",
              "2      0      10\n",
              "3      1      30\n",
              "4      1      20"
            ]
          },
          "metadata": {
            "tags": []
          },
          "execution_count": 16
        }
      ]
    },
    {
      "metadata": {
        "id": "i5FAKYGFrNpV",
        "colab": {
          "base_uri": "https://localhost:8080/",
          "height": 105
        },
        "outputId": "d1dac6f0-f380-4a11-8ec2-93f2b30bfa12"
      },
      "cell_type": "code",
      "source": [
        "df.iloc[:-1,-1]  # [all rows up to but not including the last element, the last column]"
      ],
      "execution_count": null,
      "outputs": [
        {
          "output_type": "execute_result",
          "data": {
            "text/plain": [
              "0    500\n",
              "1    400\n",
              "2    100\n",
              "3    300\n",
              "Name: height, dtype: int64"
            ]
          },
          "metadata": {
            "tags": []
          },
          "execution_count": 17
        }
      ]
    },
    {
      "metadata": {
        "id": "h4auMbwBpaxl"
      },
      "cell_type": "markdown",
      "source": [
        "### Access value by name:"
      ]
    },
    {
      "metadata": {
        "id": "pI1u-rBSpdge",
        "colab": {
          "base_uri": "https://localhost:8080/",
          "height": 34
        },
        "outputId": "7036321e-c79a-4ad9-9b4c-63b75c293b3c"
      },
      "cell_type": "code",
      "source": [
        "df['height'].loc[4]  # note that this corresponds to the height value at index name '4'"
      ],
      "execution_count": null,
      "outputs": [
        {
          "output_type": "execute_result",
          "data": {
            "text/plain": [
              "200"
            ]
          },
          "metadata": {
            "tags": []
          },
          "execution_count": 18
        }
      ]
    },
    {
      "metadata": {
        "id": "NIkKp9QMvwaF"
      },
      "cell_type": "markdown",
      "source": [
        "## Boolean filter with multiple criteria"
      ]
    },
    {
      "metadata": {
        "id": "hDs_AdAEvws1",
        "colab": {
          "base_uri": "https://localhost:8080/",
          "height": 336
        },
        "outputId": "5631b54d-0633-4b3a-8a82-91069f4feb33"
      },
      "cell_type": "code",
      "source": [
        "print(\"Logical AND examples:\")\n",
        "and_filter_1 = (df['label'] == 0) & (df['weight'] > 25)\n",
        "and_filter_2 = (df['label'] == 1) & (df['height'] < 250)\n",
        "print(df[and_filter_1])\n",
        "print(\"---\")\n",
        "print(df[and_filter_2])\n",
        "print(\"---\")\n",
        "\n",
        "print(\"Logical OR example:\")\n",
        "or_filter = and_filter_1 | and_filter_2\n",
        "print(df[or_filter])\n",
        "print(\"---\")\n",
        "\n",
        "print(\"Logical NOT example:\")\n",
        "not_filter = ~or_filter\n",
        "print(df[not_filter])"
      ],
      "execution_count": null,
      "outputs": [
        {
          "output_type": "stream",
          "text": [
            "Logical AND examples:\n",
            "   label  weight  height\n",
            "0      0      50     500\n",
            "1      0      40     400\n",
            "---\n",
            "   label  weight  height\n",
            "4      1      20     200\n",
            "---\n",
            "Logical OR example:\n",
            "   label  weight  height\n",
            "0      0      50     500\n",
            "1      0      40     400\n",
            "4      1      20     200\n",
            "---\n",
            "Logical NOT example:\n",
            "   label  weight  height\n",
            "2      0      10     100\n",
            "3      1      30     300\n"
          ],
          "name": "stdout"
        }
      ]
    }
  ]
}